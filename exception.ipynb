{
  "nbformat": 4,
  "nbformat_minor": 0,
  "metadata": {
    "colab": {
      "provenance": []
    },
    "kernelspec": {
      "name": "python3",
      "display_name": "Python 3"
    },
    "language_info": {
      "name": "python"
    }
  },
  "cells": [
    {
      "cell_type": "markdown",
      "source": [
        "**THEORETICAL QUESTIONS**"
      ],
      "metadata": {
        "id": "uleCbCzs5ObY"
      }
    },
    {
      "cell_type": "markdown",
      "source": [
        "1. What is the difference between interpreted and compiled languages?  \n"
      ],
      "metadata": {
        "id": "H2FyNY5s6FeG"
      }
    },
    {
      "cell_type": "markdown",
      "source": [
        "- Interpreted languages (like Python) are executed line by line, meaning the source code is translated into machine code at runtime by an interpreter.      \n",
        "\n",
        "- Compiled languages (like C or Java) are converted into machine code in advance using a compiler, which creates an executable file that can be run directly on the machine."
      ],
      "metadata": {
        "id": "iLLE8EgS6Xrt"
      }
    },
    {
      "cell_type": "markdown",
      "source": [
        "2. What is exception handling in Python?  \n"
      ],
      "metadata": {
        "id": "WVbalXta6YHi"
      }
    },
    {
      "cell_type": "markdown",
      "source": [
        "- Exception handling in Python is the process of responding to exceptions (errors) during program execution. This is done using the try, except, else, and finally blocks to catch errors, handle them, or ensure code execution regardless of errors."
      ],
      "metadata": {
        "id": "vgh1OuvN5x3N"
      }
    },
    {
      "cell_type": "markdown",
      "source": [
        "3. What is the purpose of the finally block in exception handling?  "
      ],
      "metadata": {
        "id": "kQ0_35cT-JYP"
      }
    },
    {
      "cell_type": "markdown",
      "source": [
        "- The finally block is used to execute code that should run regardless of whether an exception was raised or not, such as cleaning up resources (closing files, releasing memory, etc.).\n"
      ],
      "metadata": {
        "id": "WIpvAAOm-LK_"
      }
    },
    {
      "cell_type": "markdown",
      "source": [
        "4. What is logging in Python?  \n"
      ],
      "metadata": {
        "id": "d8324NCm6gEI"
      }
    },
    {
      "cell_type": "markdown",
      "source": [
        "- Logging in Python is used for tracking events that happen while a program runs. It provides a way to record messages, such as errors, warnings, or info messages, in a systematic way. This is typically done with Python’s built-in logging module.\n"
      ],
      "metadata": {
        "id": "lj2qD0D560xQ"
      }
    },
    {
      "cell_type": "markdown",
      "source": [
        "5. What is the significance of the __del__ method in Python?  \n"
      ],
      "metadata": {
        "id": "q8uT8-_x61OI"
      }
    },
    {
      "cell_type": "markdown",
      "source": [
        "- The __del__ method is a special method called a destructor. It is automatically invoked when an object is about to be destroyed. It can be used to clean up resources (e.g., closing files or database connections)."
      ],
      "metadata": {
        "id": "agnoLOKX61sD"
      }
    },
    {
      "cell_type": "markdown",
      "source": [
        "6. What is the difference between import and from ... import in Python?  \n"
      ],
      "metadata": {
        "id": "I_M4sq3n62de"
      }
    },
    {
      "cell_type": "markdown",
      "source": [
        "- import module imports the entire module, and you must refer to its functions or classes using the module name (e.g., module.function()).\n",
        "- from module import something imports specific components of the module, allowing you to use them directly without the module prefix (e.g., function()).\n"
      ],
      "metadata": {
        "id": "GbCMAMIf622d"
      }
    },
    {
      "cell_type": "markdown",
      "source": [
        "7. How can you handle multiple exceptions in Python?  \n"
      ],
      "metadata": {
        "id": "TZa7uD5v63Qe"
      }
    },
    {
      "cell_type": "markdown",
      "source": [
        "- We can handle multiple exceptions by specifying multiple except blocks or by using a single except block with a tuple of exceptions"
      ],
      "metadata": {
        "id": "BgRd3KU763yR"
      }
    },
    {
      "cell_type": "markdown",
      "source": [
        "8. What is the purpose of the with statement when handling files in Python?  \n"
      ],
      "metadata": {
        "id": "5j1Wz6mf64MD"
      }
    },
    {
      "cell_type": "markdown",
      "source": [
        "- The with statement is used to wrap the execution of a block of code, ensuring that resources (like file handles) are properly cleaned up, even if an exception occurs. It automatically closes the file when done"
      ],
      "metadata": {
        "id": "b8Q3pMRpJvE3"
      }
    },
    {
      "cell_type": "markdown",
      "source": [
        "9. What is the difference between multithreading and multiprocessing?  \n"
      ],
      "metadata": {
        "id": "btY6a6xq65MB"
      }
    },
    {
      "cell_type": "markdown",
      "source": [
        "- Multithreading involves running multiple threads within the same process, sharing the same memory space. It’s useful for I/O-bound tasks.\n",
        "- Multiprocessing involves running multiple processes, each with its own memory space. It’s useful for CPU-bound tasks where you want to take advantage of multiple CPUs."
      ],
      "metadata": {
        "id": "sjuIbSSs7L7I"
      }
    },
    {
      "cell_type": "markdown",
      "source": [
        "10. What are the advantages of using logging in a program?  \n"
      ],
      "metadata": {
        "id": "lZnmtKBW7MTH"
      }
    },
    {
      "cell_type": "markdown",
      "source": [
        "- Logging provides a structured and configurable way to capture events that occur during the execution of a program, aiding in debugging, monitoring, and maintaining the system. It is more flexible than using print statements.\n",
        "\n",
        "\n"
      ],
      "metadata": {
        "id": "8W3ot2OP7NjP"
      }
    },
    {
      "cell_type": "markdown",
      "source": [
        "11. What is memory management in Python?  \n"
      ],
      "metadata": {
        "id": "HvHjkjYB7OC_"
      }
    },
    {
      "cell_type": "markdown",
      "source": [
        "Memory management in Python involves managing memory allocation and deallocation for objects. Python uses a system of automatic memory management with garbage collection, ensuring unused objects are removed."
      ],
      "metadata": {
        "id": "1TY0JbFl7ObL"
      }
    },
    {
      "cell_type": "markdown",
      "source": [
        "12. What are the basic steps involved in exception handling in Python?  \n"
      ],
      "metadata": {
        "id": "N0CUUEBA7O_n"
      }
    },
    {
      "cell_type": "markdown",
      "source": [
        "- Try block: Code that might raise an exception is placed here.\n",
        "- Except block: Handles the exception if one occurs.\n",
        "- Else block: Executes if no exception occurs.\n",
        "- Finally block: Executes regardless of an exception to clean up resources."
      ],
      "metadata": {
        "id": "uWt_zxif7PSk"
      }
    },
    {
      "cell_type": "markdown",
      "source": [
        "13. Why is memory management important in Python?  \n"
      ],
      "metadata": {
        "id": "llwkZZkL7PpA"
      }
    },
    {
      "cell_type": "markdown",
      "source": [
        "- Efficient memory management ensures that the program runs optimally without consuming excessive resources, preventing memory leaks, and ensuring that objects are properly cleaned up when they are no longer needed.\n"
      ],
      "metadata": {
        "id": "DHhf9h077P_6"
      }
    },
    {
      "cell_type": "markdown",
      "source": [
        "14. What is the role of try and except in exception handling?  \n"
      ],
      "metadata": {
        "id": "7JN8szFo7QTJ"
      }
    },
    {
      "cell_type": "markdown",
      "source": [
        "- The try block contains code that might raise an exception, and the except block handles the exception if one occurs, allowing the program to recover or handle the error gracefully.\n"
      ],
      "metadata": {
        "id": "0iETAF6r7QmK"
      }
    },
    {
      "cell_type": "markdown",
      "source": [
        "15. How does Python's garbage collection system work?  \n"
      ],
      "metadata": {
        "id": "AXJzlkgW7RH9"
      }
    },
    {
      "cell_type": "markdown",
      "source": [
        "- Python’s garbage collection system automatically detects and reclaims memory used by objects that are no longer referenced (i.e., objects that are unreachable). It uses a reference counting system and can detect cyclic references."
      ],
      "metadata": {
        "id": "GoHWU46n7Re3"
      }
    },
    {
      "cell_type": "markdown",
      "source": [
        "16. What is the purpose of the else block in exception handling?  \n"
      ],
      "metadata": {
        "id": "6HHADsyw8CQJ"
      }
    },
    {
      "cell_type": "markdown",
      "source": [
        "- The else block is executed if no exception was raised in the try block. It’s often used for code that should only run when the try block was successful."
      ],
      "metadata": {
        "id": "TsOATtmW8FOE"
      }
    },
    {
      "cell_type": "markdown",
      "source": [
        "17. What are the common logging levels in Python?  \n"
      ],
      "metadata": {
        "id": "DP708Jdm8F0C"
      }
    },
    {
      "cell_type": "markdown",
      "source": [
        "- DEBUG, INFO, WARNING, ERROR, and CRITICAL. These levels allow you to control the severity of messages that get logged.\n"
      ],
      "metadata": {
        "id": "ldaTbMoZ8GSP"
      }
    },
    {
      "cell_type": "markdown",
      "source": [
        "18. What is the difference between os.fork() and multiprocessing in Python?  \n"
      ],
      "metadata": {
        "id": "rW9jUcbZ8G8G"
      }
    },
    {
      "cell_type": "markdown",
      "source": [
        "- os.fork() creates a child process in Unix-based systems, where the child is a copy of the parent. It’s lower-level and requires manual management.\n",
        "- multiprocessing is a higher-level module in Python for creating processes and managing parallelism, with more abstraction and cross-platform support.\n"
      ],
      "metadata": {
        "id": "10ldAhA98HW7"
      }
    },
    {
      "cell_type": "markdown",
      "source": [
        "19. What is the importance of closing a file in Python?  \n"
      ],
      "metadata": {
        "id": "D5TI92Sc8HwK"
      }
    },
    {
      "cell_type": "markdown",
      "source": [
        "- Closing a file ensures that resources are freed, and data is flushed to disk. Failure to close a file may result in data loss or resource leakage."
      ],
      "metadata": {
        "id": "WkyMORAf8IJI"
      }
    },
    {
      "cell_type": "markdown",
      "source": [
        "20. What is the difference between file.read() and file.readline() in Python?  \n"
      ],
      "metadata": {
        "id": "IvgzwfBS8IgC"
      }
    },
    {
      "cell_type": "markdown",
      "source": [
        "- file.read() reads the entire file content into a single string.\n",
        "- file.readline() reads the next line from the file as a string, making it useful for reading files line by line."
      ],
      "metadata": {
        "id": "np2laMCw8UJs"
      }
    },
    {
      "cell_type": "markdown",
      "source": [
        "21. What is the logging module in Python used for?  \n"
      ],
      "metadata": {
        "id": "g66wdhKg8Umj"
      }
    },
    {
      "cell_type": "markdown",
      "source": [
        "- The logging module is used to write log messages to various outputs, such as console, files, or remote servers. It allows you to categorize and filter log messages based on severity levels."
      ],
      "metadata": {
        "id": "bEnZcsLF8W_Q"
      }
    },
    {
      "cell_type": "markdown",
      "source": [
        "22. What is the os module in Python used for in file handling?  \n"
      ],
      "metadata": {
        "id": "uZCFwIDj8Xop"
      }
    },
    {
      "cell_type": "markdown",
      "source": [
        "- The os module provides functions to interact with the file system, such as creating, deleting, renaming files, and navigating directories."
      ],
      "metadata": {
        "id": "7wVowVlx8cc9"
      }
    },
    {
      "cell_type": "markdown",
      "source": [
        "23. What are the challenges associated with memory management in Python?  \n"
      ],
      "metadata": {
        "id": "1Pjr67TH8c5l"
      }
    },
    {
      "cell_type": "markdown",
      "source": [
        "- Handling circular references, memory leaks in third-party extensions, and ensuring that objects are properly garbage collected can be challenging in Python."
      ],
      "metadata": {
        "id": "s1N1zgqi8gOq"
      }
    },
    {
      "cell_type": "markdown",
      "source": [
        "24. How do you raise an exception manually in Python?  \n"
      ],
      "metadata": {
        "id": "OS5ZEav-8grA"
      }
    },
    {
      "cell_type": "code",
      "source": [
        "raise ValueError(\"This is an error!\")\n"
      ],
      "metadata": {
        "id": "C0C1QHxiM0Aa"
      },
      "execution_count": null,
      "outputs": []
    },
    {
      "cell_type": "markdown",
      "source": [
        "25. Why is it important to use multithreading in certain applications?"
      ],
      "metadata": {
        "id": "3gjtJRBi8jly"
      }
    },
    {
      "cell_type": "markdown",
      "source": [
        "- Multithreading allows you to perform multiple tasks concurrently, improving the responsiveness and performance of programs, especially when dealing with I/O-bound tasks like network requests or file operations."
      ],
      "metadata": {
        "id": "WM7P-Y0v8k4B"
      }
    },
    {
      "cell_type": "markdown",
      "source": [
        "**PRACTICAL QUESTONS**"
      ],
      "metadata": {
        "id": "DwFsK21w6oKM"
      }
    },
    {
      "cell_type": "markdown",
      "source": [
        "1. How can you open a file for writing in Python and write a string to it?  \n"
      ],
      "metadata": {
        "id": "2nW733sD57N9"
      }
    },
    {
      "cell_type": "code",
      "source": [
        "with open('example.txt', 'w') as file:\n",
        "    file.write(\"Hello, world!\")\n"
      ],
      "metadata": {
        "id": "vLEponSMP9P7"
      },
      "execution_count": 1,
      "outputs": []
    },
    {
      "cell_type": "markdown",
      "source": [
        "2. Write a Python program to read the contents of a file and print each line?  \n"
      ],
      "metadata": {
        "id": "c94RVWKqP9xz"
      }
    },
    {
      "cell_type": "code",
      "source": [
        "with open('example.txt', 'r') as file:\n",
        "    for line in file:\n",
        "        print(line)\n"
      ],
      "metadata": {
        "id": "YEnCqV4YP-Q_"
      },
      "execution_count": null,
      "outputs": []
    },
    {
      "cell_type": "markdown",
      "source": [
        "3. How would you handle a case where the file doesn't exist while trying to open it for reading?  \n"
      ],
      "metadata": {
        "id": "26Fwg-vwQHL4"
      }
    },
    {
      "cell_type": "code",
      "source": [
        "try:\n",
        "    with open('nonexistent_file.txt', 'r') as file:\n",
        "        content = file.read()\n",
        "except FileNotFoundError:\n",
        "    print(\"File not found!\")\n"
      ],
      "metadata": {
        "id": "2ErNtu50QH0W"
      },
      "execution_count": null,
      "outputs": []
    },
    {
      "cell_type": "markdown",
      "source": [
        "4. Write a Python script that reads from one file and writes its content to another file?  \n"
      ],
      "metadata": {
        "id": "pkh_Qf1GQIXl"
      }
    },
    {
      "cell_type": "code",
      "source": [
        "with open('source.txt', 'r') as source_file:\n",
        "    content = source_file.read()\n",
        "\n",
        "with open('destination.txt', 'w') as destination_file:\n",
        "    destination_file.write(content)\n"
      ],
      "metadata": {
        "id": "uj_6z0qdS3y7"
      },
      "execution_count": null,
      "outputs": []
    },
    {
      "cell_type": "markdown",
      "source": [
        "5. How would you catch and handle division by zero error in Python?  \n"
      ],
      "metadata": {
        "id": "84CYBHatQIyU"
      }
    },
    {
      "cell_type": "code",
      "source": [
        "try:\n",
        "    result = 10 / 0\n",
        "except ZeroDivisionError:\n",
        "    print(\"Cannot divide by zero!\")\n"
      ],
      "metadata": {
        "colab": {
          "base_uri": "https://localhost:8080/"
        },
        "id": "4VP6yDdVQjbw",
        "outputId": "fa6ad82f-dd48-4ab2-85fb-c42779e4e570"
      },
      "execution_count": 4,
      "outputs": [
        {
          "output_type": "stream",
          "name": "stdout",
          "text": [
            "Cannot divide by zero!\n"
          ]
        }
      ]
    },
    {
      "cell_type": "markdown",
      "source": [
        "6. Write a Python program that logs an error message to a log file when a division by zero exception occurs?  \n"
      ],
      "metadata": {
        "id": "vV4aNfpCQJS2"
      }
    },
    {
      "cell_type": "code",
      "source": [
        "import logging\n",
        "\n",
        "logging.basicConfig(filename='error.log', level=logging.ERROR)\n",
        "\n",
        "try:\n",
        "    result = 10 / 0\n",
        "except ZeroDivisionError:\n",
        "    logging.error(\"Attempted division by zero!\")\n"
      ],
      "metadata": {
        "colab": {
          "base_uri": "https://localhost:8080/"
        },
        "id": "KfY3QL0rQ75B",
        "outputId": "0c6efcf1-0458-4fa5-a683-98b955eee6a5"
      },
      "execution_count": 3,
      "outputs": [
        {
          "output_type": "stream",
          "name": "stderr",
          "text": [
            "ERROR:root:Attempted division by zero!\n"
          ]
        }
      ]
    },
    {
      "cell_type": "markdown",
      "source": [
        "7. How do you log information at different levels (INFO, ERROR, WARNING) in Python using the logging module?  \n"
      ],
      "metadata": {
        "id": "jRKR4ZkYQJy2"
      }
    },
    {
      "cell_type": "code",
      "source": [
        "import logging\n",
        "\n",
        "logging.basicConfig(level=logging.DEBUG)\n",
        "\n",
        "logging.debug(\"This is a debug message.\")\n",
        "logging.info(\"This is an info message.\")\n",
        "logging.warning(\"This is a warning message.\")\n",
        "logging.error(\"This is an error message.\")\n",
        "logging.critical(\"This is a critical message.\")\n"
      ],
      "metadata": {
        "colab": {
          "base_uri": "https://localhost:8080/"
        },
        "id": "IKbP2FraRAhd",
        "outputId": "d4f32ddb-3ef9-4c20-be1f-00e6b8ae831e"
      },
      "execution_count": 2,
      "outputs": [
        {
          "output_type": "stream",
          "name": "stderr",
          "text": [
            "WARNING:root:This is a warning message.\n",
            "ERROR:root:This is an error message.\n",
            "CRITICAL:root:This is a critical message.\n"
          ]
        }
      ]
    },
    {
      "cell_type": "markdown",
      "source": [
        "8. Write a program to handle a file opening error using exception handling?  \n"
      ],
      "metadata": {
        "id": "MzC_J5FXQKKc"
      }
    },
    {
      "cell_type": "code",
      "source": [
        "try:\n",
        "    with open('file.txt', 'r') as file:\n",
        "        content = file.read()\n",
        "except FileNotFoundError:\n",
        "    print(\"Error: File not found.\")\n"
      ],
      "metadata": {
        "colab": {
          "base_uri": "https://localhost:8080/"
        },
        "id": "8RPuxZ_cRFQE",
        "outputId": "f9fc2fa8-e23b-4d66-eb99-b923dbcc2d9c"
      },
      "execution_count": 6,
      "outputs": [
        {
          "output_type": "stream",
          "name": "stdout",
          "text": [
            "Error: File not found.\n"
          ]
        }
      ]
    },
    {
      "cell_type": "markdown",
      "source": [
        "9. How can you read a file line by line and store its content in a list in Python?  \n"
      ],
      "metadata": {
        "id": "HWUawjuHQKnY"
      }
    },
    {
      "cell_type": "code",
      "source": [
        "with open('example.txt', 'r') as file:\n",
        "    lines = file.readlines()\n",
        "\n",
        "print(lines)\n"
      ],
      "metadata": {
        "id": "Asw4YJcBRL6j"
      },
      "execution_count": null,
      "outputs": []
    },
    {
      "cell_type": "markdown",
      "source": [
        "10. How can you append data to an existing file in Python?  \n"
      ],
      "metadata": {
        "id": "rQrkVS72QLNY"
      }
    },
    {
      "cell_type": "code",
      "source": [
        "with open('example.txt', 'a') as file:\n",
        "    file.write(\"\\nNew data added.\")\n"
      ],
      "metadata": {
        "id": "49DyWn5URS4c"
      },
      "execution_count": null,
      "outputs": []
    },
    {
      "cell_type": "markdown",
      "source": [
        "11. Write a Python program that uses a try-except block to handle an error when attempting to access a dictionary key that doesn't exist?  \n"
      ],
      "metadata": {
        "id": "fexKPN3rQLjv"
      }
    },
    {
      "cell_type": "code",
      "source": [
        "my_dict = {\"a\": 1, \"b\": 2}\n",
        "\n",
        "try:\n",
        "    value = my_dict['c']\n",
        "except KeyError:\n",
        "    print(\"Key not found!\")\n"
      ],
      "metadata": {
        "colab": {
          "base_uri": "https://localhost:8080/"
        },
        "id": "5fwTnR8LRWnc",
        "outputId": "68b2448b-fab5-4a42-b8ae-6784042e0828"
      },
      "execution_count": 7,
      "outputs": [
        {
          "output_type": "stream",
          "name": "stdout",
          "text": [
            "Key not found!\n"
          ]
        }
      ]
    },
    {
      "cell_type": "markdown",
      "source": [
        "12. Write a program that demonstrates using multiple except blocks to handle different types of exceptions?  \n"
      ],
      "metadata": {
        "id": "Hdpo7cRyQL9J"
      }
    },
    {
      "cell_type": "code",
      "source": [
        "try:\n",
        "    num = int(input(\"Enter a number: \"))\n",
        "    result = 10 / num\n",
        "except ValueError:\n",
        "    print(\"Invalid input! Please enter an integer.\")\n",
        "except ZeroDivisionError:\n",
        "    print(\"Cannot divide by zero!\")\n"
      ],
      "metadata": {
        "colab": {
          "base_uri": "https://localhost:8080/"
        },
        "id": "kQzYOG1DRcgE",
        "outputId": "0c6c3a76-ab70-4638-9723-c53f2fd6f184"
      },
      "execution_count": 9,
      "outputs": [
        {
          "name": "stdout",
          "output_type": "stream",
          "text": [
            "Enter a number: 4\n"
          ]
        }
      ]
    },
    {
      "cell_type": "markdown",
      "source": [
        "13. How would you check if a file exists before attempting to read it in Python?  \n"
      ],
      "metadata": {
        "id": "K_rr09z_QMfy"
      }
    },
    {
      "cell_type": "code",
      "source": [
        "import os\n",
        "\n",
        "if os.path.exists('example.txt'):\n",
        "    with open('example.txt', 'r') as file:\n",
        "        content = file.read()\n",
        "else:\n",
        "    print(\"File does not exist.\")\n"
      ],
      "metadata": {
        "id": "Q-DM197sRgLk"
      },
      "execution_count": null,
      "outputs": []
    },
    {
      "cell_type": "markdown",
      "source": [
        "14. Write a program that uses the logging module to log both informational and error messages?  \n"
      ],
      "metadata": {
        "id": "FMYtFLUOQM0p"
      }
    },
    {
      "cell_type": "code",
      "source": [
        "import logging\n",
        "\n",
        "logging.basicConfig(filename='app.log', level=logging.DEBUG)\n",
        "\n",
        "logging.info(\"This is an informational message.\")\n",
        "logging.error(\"This is an error message.\")\n"
      ],
      "metadata": {
        "colab": {
          "base_uri": "https://localhost:8080/"
        },
        "id": "C3uCE8L9Rjmb",
        "outputId": "d5eabc2d-a62c-4630-f5ed-7ade166f5cbd"
      },
      "execution_count": 10,
      "outputs": [
        {
          "output_type": "stream",
          "name": "stderr",
          "text": [
            "ERROR:root:This is an error message.\n"
          ]
        }
      ]
    },
    {
      "cell_type": "markdown",
      "source": [
        "15. Write a Python program that prints the content of a file and handles the case when the file is empty?  \n"
      ],
      "metadata": {
        "id": "qkz040s7QNW_"
      }
    },
    {
      "cell_type": "code",
      "source": [
        "try:\n",
        "    with open('example.txt', 'r') as file:\n",
        "        content = file.read()\n",
        "        if content:\n",
        "            print(content)\n",
        "        else:\n",
        "            print(\"The file is empty.\")\n",
        "except FileNotFoundError:\n",
        "    print(\"File not found.\")\n"
      ],
      "metadata": {
        "colab": {
          "base_uri": "https://localhost:8080/"
        },
        "id": "cs3DC55PTaiA",
        "outputId": "dbd7b7d9-26a1-4383-e3f9-2c7fa2f78e49"
      },
      "execution_count": 11,
      "outputs": [
        {
          "output_type": "stream",
          "name": "stdout",
          "text": [
            "Hello, world!\n"
          ]
        }
      ]
    },
    {
      "cell_type": "markdown",
      "source": [
        "16. Demonstrate how to use memory profiling to check the memory usage of a small program?  \n"
      ],
      "metadata": {
        "id": "3ZywdrzeQNwt"
      }
    },
    {
      "cell_type": "markdown",
      "source": [
        "17. Write a Python program to create and write a list of numbers to a file, one number per line?  \n"
      ],
      "metadata": {
        "id": "7ap1OPVyQOQJ"
      }
    },
    {
      "cell_type": "code",
      "source": [
        "import memory_profiler\n",
        "\n",
        "@memory_profiler.profile\n",
        "def my_function():\n",
        "    a = [1] * (10**6)\n",
        "    b = [2] * (2 * 10**7)\n",
        "    del b\n",
        "    return a\n",
        "\n",
        "my_function()\n"
      ],
      "metadata": {
        "id": "PWVeoOTMRtB4"
      },
      "execution_count": null,
      "outputs": []
    },
    {
      "cell_type": "markdown",
      "source": [
        "18. How would you implement a basic logging setup that logs to a file with rotation after 1MB?  \n"
      ],
      "metadata": {
        "id": "NmI87EqxQOuq"
      }
    },
    {
      "cell_type": "code",
      "source": [
        "import logging\n",
        "from logging.handlers import RotatingFileHandler\n",
        "\n",
        "handler = RotatingFileHandler('logfile.log', maxBytes=1e6, backupCount=3)\n",
        "logger = logging.getLogger()\n",
        "logger.addHandler(handler)\n",
        "logger.setLevel(logging.INFO)\n",
        "\n",
        "logger.info(\"This is a log message.\")\n"
      ],
      "metadata": {
        "colab": {
          "base_uri": "https://localhost:8080/"
        },
        "id": "ahjqxq3gRwMm",
        "outputId": "855fb315-4333-49db-8621-be52d9d53ecf"
      },
      "execution_count": 13,
      "outputs": [
        {
          "output_type": "stream",
          "name": "stderr",
          "text": [
            "INFO:root:This is a log message.\n"
          ]
        }
      ]
    },
    {
      "cell_type": "markdown",
      "source": [
        "19. Write a program that handles both IndexError and KeyError using a try-except block?  \n"
      ],
      "metadata": {
        "id": "C5bdwwb5QPPJ"
      }
    },
    {
      "cell_type": "code",
      "source": [
        "my_list = [1, 2, 3]\n",
        "my_dict = {\"a\": 1, \"b\": 2}\n",
        "\n",
        "try:\n",
        "    print(my_list[5])\n",
        "except IndexError:\n",
        "    print(\"Index out of range!\")\n",
        "\n",
        "try:\n",
        "    print(my_dict['c'])\n",
        "except KeyError:\n",
        "    print(\"Key not found!\")\n"
      ],
      "metadata": {
        "colab": {
          "base_uri": "https://localhost:8080/"
        },
        "id": "Os2O2zszRy_B",
        "outputId": "8f31e3ce-7a32-4bf7-b87a-aec1e3bd7247"
      },
      "execution_count": 14,
      "outputs": [
        {
          "output_type": "stream",
          "name": "stdout",
          "text": [
            "Index out of range!\n",
            "Key not found!\n"
          ]
        }
      ]
    },
    {
      "cell_type": "markdown",
      "source": [
        "20. How would you open a file and read its contents using a context manager in Python?  \n"
      ],
      "metadata": {
        "id": "Q9f8eMBBQPpe"
      }
    },
    {
      "cell_type": "code",
      "source": [
        "with open('example.txt', 'r') as file:\n",
        "    content = file.read()\n",
        "    print(content)\n"
      ],
      "metadata": {
        "id": "QwDxq73hR2H-"
      },
      "execution_count": null,
      "outputs": []
    },
    {
      "cell_type": "markdown",
      "source": [
        "21. Write a Python program that reads a file and prints the number of occurrences of a specific word?  \n"
      ],
      "metadata": {
        "id": "hHMTy90qR2n6"
      }
    },
    {
      "cell_type": "code",
      "source": [
        "word_to_search = \"Python\"\n",
        "with open('example.txt', 'r') as file:\n",
        "    content = file.read()\n",
        "    occurrences = content.lower().count(word_to_search.lower())\n",
        "    print(f\"The word '{word_to_search}' appears {occurrences} times.\")\n"
      ],
      "metadata": {
        "id": "voQQ39V0R3H8"
      },
      "execution_count": null,
      "outputs": []
    },
    {
      "cell_type": "markdown",
      "source": [
        "22. How can you check if a file is empty before attempting to read its contents?  \n"
      ],
      "metadata": {
        "id": "BNHeXosoQP_P"
      }
    },
    {
      "cell_type": "code",
      "source": [
        "import os\n",
        "\n",
        "if os.stat('example.txt').st_size == 0:\n",
        "    print(\"The file is empty.\")\n",
        "else:\n",
        "    with open('example.txt', 'r') as file:\n",
        "        content = file.read()\n",
        "        print(content)\n"
      ],
      "metadata": {
        "id": "FXfTYrMRR810"
      },
      "execution_count": null,
      "outputs": []
    },
    {
      "cell_type": "markdown",
      "source": [
        "23. Write a Python program that writes to a log file when an error occurs during file handling?"
      ],
      "metadata": {
        "id": "YQXop_GmR9OV"
      }
    },
    {
      "cell_type": "code",
      "source": [
        "import logging\n",
        "\n",
        "logging.basicConfig(filename='file_error.log', level=logging.ERROR)\n",
        "\n",
        "try:\n",
        "    with open('nonexistent_file.txt', 'r') as file:\n",
        "        content = file.read()\n",
        "except FileNotFoundError as e:\n",
        "    logging.error(f\"Error occurred: {e}\")\n"
      ],
      "metadata": {
        "id": "e9BOaXfsR9jq"
      },
      "execution_count": null,
      "outputs": []
    }
  ]
}